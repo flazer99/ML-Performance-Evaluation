{
 "cells": [
  {
   "cell_type": "markdown",
   "metadata": {},
   "source": [
    "# Performance Evaluation Metrics\n",
    "\n",
    "In this notebook, I'll try and understand some of the performance evaluation metrics that will help in better analysing models."
   ]
  },
  {
   "cell_type": "markdown",
   "metadata": {
    "heading_collapsed": true
   },
   "source": [
    "### Import libraries"
   ]
  },
  {
   "cell_type": "markdown",
   "metadata": {
    "hidden": true
   },
   "source": [
    "First, I import numerous libraries that will be required to work with the data."
   ]
  },
  {
   "cell_type": "code",
   "execution_count": 1,
   "metadata": {
    "hidden": true
   },
   "outputs": [],
   "source": [
    "import numpy as np\n",
    "import pandas as pd\n",
    "import matplotlib.pyplot as plt\n",
    "\n",
    "%matplotlib inline"
   ]
  },
  {
   "cell_type": "markdown",
   "metadata": {
    "heading_collapsed": true
   },
   "source": [
    "### Create dataset"
   ]
  },
  {
   "cell_type": "markdown",
   "metadata": {
    "hidden": true
   },
   "source": [
    "To evaluate and understand various metrics, I'll create a dummy dataset which will have two features `Age` and `Experience`. Based on these features, the output labels will be `0.0` to represent salary less than `$200K` and `1.0` to represent salary more than or equal to `$200K`.\n",
    "\n",
    "The dataset will be described as follows:\n",
    "1. **Age:** Ranges from 15 Years to 60 Years\n",
    "2. **Experience:** Ranges from 0 Years to 15 Years\n",
    "3. **Salary:** Includes two values, `0.0` and `1.0`\n",
    "\n",
    "There are a total of 200 values in the dataset."
   ]
  },
  {
   "cell_type": "markdown",
   "metadata": {
    "hidden": true
   },
   "source": [
    "The procedure of dataset creation is as follows:\n",
    "1. Create 200 values in total. First 100 will have label as `0.0` and the next will have label `1.0`.\n",
    "2. For label `0.0`, I will try to keep `Age` and `Experience` on the lower side and vice versa for `1.0`."
   ]
  },
  {
   "cell_type": "markdown",
   "metadata": {
    "hidden": true
   },
   "source": [
    "First, I create the dataset for age. I use `random.randint` to create random ages. I create two age arrays, one from 15 to 40 years for label `0.0` and the other from 30 to 60 years for label `1.0` while keeping some overlap to make data more realistic. Finally, I combine them together. "
   ]
  },
  {
   "cell_type": "code",
   "execution_count": 2,
   "metadata": {
    "hidden": true
   },
   "outputs": [],
   "source": [
    "high_ages = np.random.randint(30, 60, 100)\n",
    "low_ages = np.random.randint(15, 40, 100)\n",
    "age = np.concatenate([low_ages, high_ages])"
   ]
  },
  {
   "cell_type": "markdown",
   "metadata": {
    "hidden": true
   },
   "source": [
    "Next, I create the dataset for experiences. I use `random.randint` to create random experience. I create two arrays, one from 0 to 9 years for label `0.0` and the other from 5 to 15 years for label `1.0` while keeping some overlap to make data more realistic. Finally, I combine them together as well."
   ]
  },
  {
   "cell_type": "code",
   "execution_count": 3,
   "metadata": {
    "hidden": true
   },
   "outputs": [],
   "source": [
    "high_exp = np.random.randint(5, 15, 100)\n",
    "low_exp = np.random.randint(0, 9, 100)\n",
    "exp = np.concatenate([low_exp, high_exp])"
   ]
  },
  {
   "cell_type": "markdown",
   "metadata": {
    "hidden": true
   },
   "source": [
    "Finally, I combine the two columns to create `X`, the features. I also create the labels `y` using first 100 values as `0.0` and last 100 values as `1.0`."
   ]
  },
  {
   "cell_type": "code",
   "execution_count": 4,
   "metadata": {
    "hidden": true
   },
   "outputs": [],
   "source": [
    "X = pd.concat([pd.Series(exp), pd.Series(age)], axis = 1, names = ['Experience', 'Age'])\n",
    "y = np.concatenate([np.zeros(100), np.ones(100)])"
   ]
  },
  {
   "cell_type": "markdown",
   "metadata": {
    "heading_collapsed": true
   },
   "source": [
    "### Plot created dataset"
   ]
  },
  {
   "cell_type": "markdown",
   "metadata": {
    "hidden": true
   },
   "source": [
    "Now, I'll use **Scatter Plot** from `matplotlib` to plot the created dataset to analyse the dataset. \n",
    "\n",
    "All data points with label `1.0` are marked with **GREEN** and data points with label `0.0` are marked with **RED**."
   ]
  },
  {
   "cell_type": "code",
   "execution_count": 5,
   "metadata": {
    "hidden": true
   },
   "outputs": [
    {
     "data": {
      "text/plain": [
       "<matplotlib.legend.Legend at 0x1187a6748>"
      ]
     },
     "execution_count": 5,
     "metadata": {},
     "output_type": "execute_result"
    },
    {
     "data": {
      "image/png": "[encoded data removed]",
      "text/plain": [
       "<Figure size 1440x864 with 1 Axes>"
      ]
     },
     "metadata": {
      "needs_background": "light"
     },
     "output_type": "display_data"
    }
   ],
   "source": [
    "plt.figure(figsize = (20, 12))\n",
    "plt.scatter(age[y == 1], exp[y == 1], c = 'g', label = 'Salary >= $200K')\n",
    "plt.scatter(age[y == 0], exp[y == 0], c = 'r', label = 'Salary < $200K')\n",
    "plt.xlabel('Age')\n",
    "plt.ylabel('Experience (in years)')\n",
    "plt.title('Plot between Experience and Age')\n",
    "plt.legend()"
   ]
  },
  {
   "cell_type": "markdown",
   "metadata": {
    "hidden": true
   },
   "source": [
    "The dataset appears to be good with some overlapping between **RED** and **GREEN** points. This overlap makes the data more realistic as in reality we do not usually find datasets with clearly distinct classes."
   ]
  },
  {
   "cell_type": "markdown",
   "metadata": {
    "heading_collapsed": true
   },
   "source": [
    "### Applying Machine Learning"
   ]
  },
  {
   "cell_type": "markdown",
   "metadata": {
    "hidden": true
   },
   "source": [
    "A linear line might be able to separate the classes upto a great extent. So, I'll use the **Support Vector Classifier** with **lienar kernel** and then analyse its performance using key metrics."
   ]
  },
  {
   "cell_type": "markdown",
   "metadata": {
    "hidden": true
   },
   "source": [
    "Let's first split the dataset into **70% training data** and **30% testing data**."
   ]
  },
  {
   "cell_type": "code",
   "execution_count": 6,
   "metadata": {
    "hidden": true
   },
   "outputs": [],
   "source": [
    "from sklearn.model_selection import train_test_split\n",
    "X_train, X_test, y_train, y_test = train_test_split(X, y, test_size = 0.30, random_state = 0)"
   ]
  },
  {
   "cell_type": "markdown",
   "metadata": {
    "hidden": true
   },
   "source": [
    "Now, I will train the Support Vector Machine and store its prection inside `y_pred`."
   ]
  },
  {
   "cell_type": "code",
   "execution_count": 7,
   "metadata": {
    "hidden": true
   },
   "outputs": [
    {
     "name": "stdout",
     "output_type": "stream",
     "text": [
      "Support Vector Machine score: 90.00%\n"
     ]
    }
   ],
   "source": [
    "from sklearn.svm import SVC\n",
    "\n",
    "supportVectorClassifier = SVC(kernel = 'linear')\n",
    "supportVectorClassifier.fit(X_train, y_train)\n",
    "y_pred = supportVectorClassifier.predict(X_test)\n",
    "\n",
    "print(\"Support Vector Machine score: {0:.2f}%\".format(supportVectorClassifier.score(X_test, y_test)*100))"
   ]
  },
  {
   "cell_type": "markdown",
   "metadata": {
    "heading_collapsed": true
   },
   "source": [
    "### Analysing trained model using plot"
   ]
  },
  {
   "cell_type": "markdown",
   "metadata": {
    "hidden": true
   },
   "source": [
    "Now, I plot the results of the test data on the figure and define the decision boundary."
   ]
  },
  {
   "cell_type": "code",
   "execution_count": 8,
   "metadata": {
    "hidden": true
   },
   "outputs": [
    {
     "name": "stderr",
     "output_type": "stream",
     "text": [
      "/usr/local/lib/python3.7/site-packages/ipykernel_launcher.py:4: DeprecationWarning: object of type <class 'float'> cannot be safely interpreted as an integer.\n",
      "  after removing the cwd from sys.path.\n",
      "'c' argument looks like a single numeric RGB or RGBA sequence, which should be avoided as value-mapping will have precedence in case its length matches with 'x' & 'y'.  Please use a 2-D array with a single row if you really want to specify the same RGB or RGBA value for all points.\n",
      "'c' argument looks like a single numeric RGB or RGBA sequence, which should be avoided as value-mapping will have precedence in case its length matches with 'x' & 'y'.  Please use a 2-D array with a single row if you really want to specify the same RGB or RGBA value for all points.\n"
     ]
    },
    {
     "data": {
      "text/plain": [
       "<matplotlib.legend.Legend at 0x1436290b8>"
      ]
     },
     "execution_count": 8,
     "metadata": {},
     "output_type": "execute_result"
    },
    {
     "data": {
      "image/png": "[encoded data removed]",
      "text/plain": [
       "<Figure size 1440x864 with 1 Axes>"
      ]
     },
     "metadata": {
      "needs_background": "light"
     },
     "output_type": "display_data"
    }
   ],
   "source": [
    "from matplotlib.colors import ListedColormap\n",
    "cmap = ListedColormap(['red', 'green'])\n",
    "\n",
    "X_background = np.linspace(min(X_test), max(X_test), 0.01)\n",
    "arr_1 = np.arange(start = X_test.iloc[:, 0].min() - 1, stop = X_test.iloc[:, 0].max() + 1, step = 0.01)\n",
    "arr_2 = np.arange(start = X_test.iloc[:, 1].min() - 1, stop = X_test.iloc[:, 1].max() + 1, step = 0.01)\n",
    "x_coords, y_coords = np.meshgrid(arr_1, arr_2)\n",
    "plt.figure(figsize = (20, 12))\n",
    "plt.contourf(x_coords, \n",
    "             y_coords, \n",
    "             supportVectorClassifier.predict(np.array([x_coords.ravel(), y_coords.ravel()]).T).reshape(x_coords.shape),\n",
    "             alpha = 0.3, \n",
    "             cmap = cmap)\n",
    "labels = ['Salary < $200K', 'Salary >= $200K']\n",
    "for i, j in enumerate(np.unique(y_test)):\n",
    "    plt.scatter(X_test.iloc[j == y_test, 0], X_test.iloc[j == y_test, 1],\n",
    "                c = cmap(i), label = labels[i])\n",
    "plt.xlabel('Age')\n",
    "plt.ylabel('Experience (in years)')\n",
    "plt.title('Plot between Experience and Age')\n",
    "plt.legend()"
   ]
  },
  {
   "cell_type": "markdown",
   "metadata": {
    "hidden": true
   },
   "source": [
    "The linear boundary does really well at separating the two classes in the test dataset.\n",
    "\n",
    "However, there are still some values that were not properly classified."
   ]
  },
  {
   "cell_type": "markdown",
   "metadata": {},
   "source": [
    "### Performance Analysis"
   ]
  },
  {
   "cell_type": "code",
   "execution_count": 9,
   "metadata": {},
   "outputs": [
    {
     "data": {
      "text/plain": [
       "array([[24,  5],\n",
       "       [ 1, 30]])"
      ]
     },
     "execution_count": 9,
     "metadata": {},
     "output_type": "execute_result"
    }
   ],
   "source": [
    "from sklearn.metrics import confusion_matrix\n",
    "\n",
    "confusion_matrix(y_test, y_pred)"
   ]
  }
 ],
 "metadata": {
  "kernelspec": {
   "display_name": "Python 3",
   "language": "python",
   "name": "python3"
  },
  "language_info": {
   "codemirror_mode": {
    "name": "ipython",
    "version": 3
   },
   "file_extension": ".py",
   "mimetype": "text/x-python",
   "name": "python",
   "nbconvert_exporter": "python",
   "pygments_lexer": "ipython3",
   "version": "3.7.2"
  }
 },
 "nbformat": 4,
 "nbformat_minor": 2
}
